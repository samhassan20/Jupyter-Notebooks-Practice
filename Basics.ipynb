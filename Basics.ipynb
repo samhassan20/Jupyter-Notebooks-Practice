{
 "cells": [
  {
   "cell_type": "code",
   "execution_count": 39,
   "metadata": {},
   "outputs": [],
   "source": [
    "import pandas\n",
    "import matplotlib.pyplot as plt\n",
    "import random\n",
    "%matplotlib inline\n",
    "df = pandas.read_csv(\"C:/Users/samreenmahak.hassan/Downloads/tallin/s3_files/tallin/tomslee_airbnb_tallin_0480_2016-07-08.csv\")"
   ]
  },
  {
   "cell_type": "code",
   "execution_count": 4,
   "metadata": {},
   "outputs": [
    {
     "name": "stdout",
     "output_type": "stream",
     "text": [
      "       room_id   host_id        room_type  borough neighborhood  reviews  \\\n",
      "0      1285389   6993706     Private room      NaN      Tallinn        4   \n",
      "1      8513145  44827819  Entire home/apt      NaN      Tallinn       22   \n",
      "2     12966573  71315642  Entire home/apt      NaN      Tallinn        6   \n",
      "3      4131479  12682312     Private room      NaN      Tallinn       32   \n",
      "4     13488239  26567205  Entire home/apt      NaN      Tallinn        1   \n",
      "5       996434   5445295  Entire home/apt      NaN      Tallinn        0   \n",
      "6      1628139   8653691  Entire home/apt      NaN      Tallinn       58   \n",
      "7      8422016  10884509     Private room      NaN      Tallinn        2   \n",
      "8     11259783  49069680     Private room      NaN      Tallinn        0   \n",
      "9     12957837  71232570  Entire home/apt      NaN      Tallinn        8   \n",
      "10     3238603  16380674  Entire home/apt      NaN      Tallinn       69   \n",
      "11     5682664  19495156     Private room      NaN      Tallinn        0   \n",
      "12    13001698  71682101  Entire home/apt      NaN      Tallinn        7   \n",
      "13     6495455  19401650  Entire home/apt      NaN      Tallinn       24   \n",
      "14    10164505  49995313  Entire home/apt      NaN      Tallinn       12   \n",
      "15    10955018   4396158  Entire home/apt      NaN      Tallinn        0   \n",
      "16      852895    750713  Entire home/apt      NaN      Tallinn        3   \n",
      "17     5813169  13006110  Entire home/apt      NaN      Tallinn       16   \n",
      "18     9509593   9263307  Entire home/apt      NaN      Tallinn        4   \n",
      "19     2925798  12873194     Private room      NaN      Tallinn        3   \n",
      "20    13863819  52321676     Private room      NaN      Tallinn        0   \n",
      "21     3896342  10775657     Private room      NaN      Tallinn        1   \n",
      "22     4420970   9441099  Entire home/apt      NaN      Tallinn       37   \n",
      "23     1988482   6142871  Entire home/apt      NaN      Tallinn        4   \n",
      "24     1970238  10173691  Entire home/apt      NaN      Tallinn      106   \n",
      "25     9904241  50931112  Entire home/apt      NaN      Tallinn       11   \n",
      "26     7155979  35353670  Entire home/apt      NaN      Tallinn       41   \n",
      "27     2955620  15074815  Entire home/apt      NaN      Tallinn       26   \n",
      "28     6690962  34808981     Private room      NaN      Tallinn        0   \n",
      "29     1151457   3705933  Entire home/apt      NaN      Tallinn      152   \n",
      "...        ...       ...              ...      ...          ...      ...   \n",
      "1348   1637856   3253499  Entire home/apt      NaN      Tallinn       58   \n",
      "1349  13679847  79633751  Entire home/apt      NaN      Tallinn        0   \n",
      "1350  10304520    909008  Entire home/apt      NaN      Tallinn       10   \n",
      "1351  12554230  68045154  Entire home/apt      NaN      Tallinn        7   \n",
      "1352   5493747  28488629  Entire home/apt      NaN      Tallinn       57   \n",
      "1353   5215999  26985719  Entire home/apt      NaN      Tallinn       29   \n",
      "1354  13150800  13369267  Entire home/apt      NaN      Tallinn        1   \n",
      "1355  13709495  80010722  Entire home/apt      NaN      Tallinn        0   \n",
      "1356   8406556  10273265  Entire home/apt      NaN      Tallinn       12   \n",
      "1357  10037719   3705933  Entire home/apt      NaN      Tallinn       22   \n",
      "1358   7315183  38324261  Entire home/apt      NaN      Tallinn       11   \n",
      "1359  13709843  77616158  Entire home/apt      NaN      Tallinn        0   \n",
      "1360   5964063  30960202  Entire home/apt      NaN      Tallinn       32   \n",
      "1361  13367495  44554866     Private room      NaN      Tallinn        0   \n",
      "1362   3895381   3428508     Private room      NaN      Tallinn       36   \n",
      "1363  13051913  21040949     Private room      NaN      Tallinn        2   \n",
      "1364  13862615  32677951     Private room      NaN      Tallinn        0   \n",
      "1365   9719743  29809476     Private room      NaN      Tallinn        0   \n",
      "1366  13651928  75381157     Private room      NaN      Tallinn        0   \n",
      "1367  11247236  58672214     Private room      NaN      Tallinn        2   \n",
      "1368   7307196  36210099     Private room      NaN      Tallinn       12   \n",
      "1369   9621093   8622180     Private room      NaN      Tallinn       24   \n",
      "1370    619188   3067993     Private room      NaN      Tallinn       12   \n",
      "1371   7694441   2554919     Private room      NaN      Tallinn       20   \n",
      "1372  13489161  77285091     Private room      NaN      Tallinn        1   \n",
      "1373  13852511  81814122     Private room      NaN      Tallinn        0   \n",
      "1374   9072730  47319147     Private room      NaN      Tallinn       19   \n",
      "1375   7235305  10809665     Private room      NaN      Tallinn       15   \n",
      "1376  13358248  75768224     Private room      NaN      Tallinn        5   \n",
      "1377  13791580   3808932     Private room      NaN      Tallinn        0   \n",
      "\n",
      "      overall_satisfaction  accommodates  bedrooms  price  minstay   latitude  \\\n",
      "0                      3.5             2       1.0   48.0      1.0  59.437588   \n",
      "1                      5.0             4       0.0   34.0      1.0  59.437354   \n",
      "2                      5.0             3       1.0   39.0      1.0  59.426847   \n",
      "3                      4.5             2       1.0   33.0      1.0  59.427694   \n",
      "4                      NaN             3       2.0  100.0      1.0  59.438235   \n",
      "5                      NaN             4       2.0   49.0      2.0  59.425380   \n",
      "6                      5.0             4       1.0   63.0      2.0  59.440802   \n",
      "7                      NaN             1       1.0   29.0      1.0  59.389109   \n",
      "8                      NaN             2       1.0   34.0      2.0  59.432512   \n",
      "9                      4.5             3       0.0   32.0      2.0  59.430677   \n",
      "10                     5.0             3       1.0   67.0      1.0  59.427815   \n",
      "11                     NaN             1       1.0   26.0      1.0  59.427590   \n",
      "12                     5.0             4       1.0   48.0      1.0  59.431104   \n",
      "13                     5.0             4       2.0   68.0      2.0  59.444358   \n",
      "14                     5.0             4       2.0   62.0      2.0  59.432287   \n",
      "15                     NaN             5       2.0  113.0      1.0  59.427720   \n",
      "16                     4.5            10       4.0  229.0      1.0  59.376068   \n",
      "17                     5.0             4       1.0   79.0      2.0  59.435496   \n",
      "18                     5.0             2       1.0   33.0      1.0  59.440009   \n",
      "19                     4.5             3       1.0   20.0      2.0  59.449638   \n",
      "20                     NaN             2       1.0   45.0      NaN  59.495475   \n",
      "21                     NaN             2       1.0   21.0      1.0  59.390935   \n",
      "22                     5.0             4       1.0   34.0      1.0  59.421101   \n",
      "23                     5.0             2       1.0   44.0      3.0  59.436985   \n",
      "24                     4.5             3       1.0   65.0      1.0  59.436444   \n",
      "25                     5.0             2       0.0   63.0      2.0  59.429221   \n",
      "26                     4.5             2       1.0   36.0      1.0  59.422591   \n",
      "27                     4.5             4       1.0   46.0      2.0  59.454185   \n",
      "28                     NaN             1       1.0   80.0      2.0  59.441554   \n",
      "29                     4.5             4       0.0   57.0      1.0  59.438074   \n",
      "...                    ...           ...       ...    ...      ...        ...   \n",
      "1348                   5.0             3       1.0   78.0      2.0  59.438653   \n",
      "1349                   NaN             4       1.0   34.0      3.0  59.409104   \n",
      "1350                   5.0             5       1.0   52.0      2.0  59.445231   \n",
      "1351                   5.0             4       2.0   34.0      2.0  59.428783   \n",
      "1352                   5.0             3       1.0   50.0      2.0  59.428695   \n",
      "1353                   5.0             2       1.0   32.0      3.0  59.439965   \n",
      "1354                   NaN             6       3.0  132.0      2.0  59.442772   \n",
      "1355                   NaN             4       2.0   40.0      1.0  59.439041   \n",
      "1356                   5.0             2       1.0   80.0      1.0  59.439563   \n",
      "1357                   4.5             3       0.0   57.0      1.0  59.436626   \n",
      "1358                   4.5             2       1.0   45.0      1.0  59.440874   \n",
      "1359                   NaN             2       1.0   85.0      2.0  59.427145   \n",
      "1360                   4.5             4       0.0   23.0      1.0  59.434475   \n",
      "1361                   NaN             2       1.0   23.0      1.0  59.418601   \n",
      "1362                   4.5             2       1.0   18.0      2.0  59.375275   \n",
      "1363                   NaN             1       1.0   40.0      1.0  59.441320   \n",
      "1364                   NaN             2       1.0   40.0      1.0  59.439758   \n",
      "1365                   NaN             2       1.0   33.0      6.0  59.433416   \n",
      "1366                   NaN             5       1.0   21.0      NaN  59.398939   \n",
      "1367                   NaN             2       1.0   18.0      1.0  59.426044   \n",
      "1368                   4.5             3       1.0   22.0      2.0  59.447502   \n",
      "1369                   5.0             2       1.0   28.0      1.0  59.430164   \n",
      "1370                   5.0             2       1.0   26.0      2.0  59.377710   \n",
      "1371                   5.0             1       1.0   32.0      2.0  59.437388   \n",
      "1372                   NaN             2       1.0   34.0      1.0  59.444624   \n",
      "1373                   NaN             2       1.0   25.0      1.0  59.438252   \n",
      "1374                   4.5             2       1.0   29.0      NaN  59.436351   \n",
      "1375                   4.5             2       1.0   29.0      1.0  59.452348   \n",
      "1376                   4.0             2       1.0   33.0      1.0  59.431377   \n",
      "1377                   NaN             2       1.0   33.0      1.0  59.442726   \n",
      "\n",
      "      longitude               last_modified  \n",
      "0     24.767804  2016-07-09 00:13:42.070529  \n",
      "1     24.730426  2016-07-09 00:13:02.839090  \n",
      "2     24.726161  2016-07-08 23:57:49.824685  \n",
      "3     24.749812  2016-07-08 23:56:55.320785  \n",
      "4     24.743553  2016-07-08 23:54:11.463857  \n",
      "5     24.740688  2016-07-08 23:53:50.031609  \n",
      "6     24.743513  2016-07-08 23:47:15.025702  \n",
      "7     24.659778  2016-07-08 23:44:43.173012  \n",
      "8     24.774258  2016-07-08 23:44:18.571820  \n",
      "9     24.734920  2016-07-08 23:43:57.461682  \n",
      "10    24.750662  2016-07-08 23:43:39.511237  \n",
      "11    24.774586  2016-07-08 23:43:30.265344  \n",
      "12    24.778196  2016-07-08 23:43:22.558498  \n",
      "13    24.734842  2016-07-08 23:43:11.147239  \n",
      "14    24.774945  2016-07-08 23:43:09.404146  \n",
      "15    24.728463  2016-07-08 23:42:27.656766  \n",
      "16    24.748672  2016-07-08 23:42:21.852280  \n",
      "17    24.770938  2016-07-08 23:41:55.355669  \n",
      "18    24.838707  2016-07-08 23:40:45.856988  \n",
      "19    24.873690  2016-07-08 23:40:29.718588  \n",
      "20    24.844120  2016-07-08 23:40:22.752488  \n",
      "21    24.658827  2016-07-08 23:40:18.785328  \n",
      "22    24.742840  2016-07-08 23:40:15.145464  \n",
      "23    24.726051  2016-07-08 23:39:56.303055  \n",
      "24    24.760566  2016-07-08 23:39:50.074509  \n",
      "25    24.745408  2016-07-08 23:39:43.280744  \n",
      "26    24.735074  2016-07-08 23:39:30.119595  \n",
      "27    24.842180  2016-07-08 23:39:23.370092  \n",
      "28    24.764754  2016-07-08 23:39:15.283756  \n",
      "29    24.743440  2016-07-08 23:38:28.447232  \n",
      "...         ...                         ...  \n",
      "1348  24.746243  2016-07-08 23:39:46.830577  \n",
      "1349  24.726556  2016-07-08 23:21:30.969798  \n",
      "1350  24.739587  2016-07-08 23:14:02.268065  \n",
      "1351  24.744945  2016-07-08 23:04:26.694768  \n",
      "1352  24.747698  2016-07-08 23:45:23.682851  \n",
      "1353  24.714810  2016-07-09 00:14:32.203336  \n",
      "1354  24.734852  2016-07-08 23:16:49.762150  \n",
      "1355  24.766967  2016-07-09 00:11:23.297110  \n",
      "1356  24.747840  2016-07-08 23:56:45.816208  \n",
      "1357  24.749304  2016-07-08 23:10:34.378662  \n",
      "1358  24.772613  2016-07-08 23:18:58.591531  \n",
      "1359  24.733597  2016-07-08 23:04:41.673697  \n",
      "1360  24.759927  2016-07-08 23:19:07.944448  \n",
      "1361  24.713895  2016-07-08 23:49:36.380452  \n",
      "1362  24.697123  2016-07-09 00:11:05.746567  \n",
      "1363  24.749737  2016-07-08 23:08:46.190058  \n",
      "1364  24.763358  2016-07-08 23:08:22.967006  \n",
      "1365  24.768996  2016-07-08 23:21:21.365526  \n",
      "1366  24.696175  2016-07-08 23:05:30.365594  \n",
      "1367  24.768112  2016-07-09 00:14:43.139737  \n",
      "1368  24.699609  2016-07-08 23:19:12.949005  \n",
      "1369  24.763121  2016-07-08 23:35:20.011781  \n",
      "1370  24.677036  2016-07-08 23:50:10.468438  \n",
      "1371  24.758613  2016-07-08 23:17:54.281291  \n",
      "1372  24.735671  2016-07-09 00:07:02.602897  \n",
      "1373  24.724285  2016-07-08 23:11:44.397256  \n",
      "1374  24.746261  2016-07-09 00:01:06.814468  \n",
      "1375  24.677005  2016-07-08 23:48:15.064712  \n",
      "1376  24.742749  2016-07-08 23:56:39.794496  \n",
      "1377  24.813866  2016-07-08 23:10:02.316183  \n",
      "\n",
      "[1378 rows x 14 columns]\n"
     ]
    }
   ],
   "source": [
    "print(df)"
   ]
  },
  {
   "cell_type": "code",
   "execution_count": 6,
   "metadata": {},
   "outputs": [
    {
     "data": {
      "text/plain": [
       "room_id                   int64\n",
       "host_id                   int64\n",
       "room_type                object\n",
       "borough                 float64\n",
       "neighborhood             object\n",
       "reviews                   int64\n",
       "overall_satisfaction    float64\n",
       "accommodates              int64\n",
       "bedrooms                float64\n",
       "price                   float64\n",
       "minstay                 float64\n",
       "latitude                float64\n",
       "longitude               float64\n",
       "last_modified            object\n",
       "dtype: object"
      ]
     },
     "execution_count": 6,
     "metadata": {},
     "output_type": "execute_result"
    }
   ],
   "source": [
    "df.dtypes"
   ]
  },
  {
   "cell_type": "code",
   "execution_count": 10,
   "metadata": {},
   "outputs": [
    {
     "name": "stdout",
     "output_type": "stream",
     "text": [
      "['room_id' 'host_id' 'room_type' 'borough' 'neighborhood' 'reviews'\n",
      " 'overall_satisfaction' 'accommodates' 'bedrooms' 'price' 'minstay'\n",
      " 'latitude' 'longitude' 'last_modified']\n"
     ]
    }
   ],
   "source": [
    "colnames = df.columns.values\n",
    "print(colnames)"
   ]
  },
  {
   "cell_type": "code",
   "execution_count": 44,
   "metadata": {},
   "outputs": [
    {
     "data": {
      "text/plain": [
       "array([[<matplotlib.axes._subplots.AxesSubplot object at 0x000001DDE26DA278>]], dtype=object)"
      ]
     },
     "execution_count": 44,
     "metadata": {},
     "output_type": "execute_result"
    },
    {
     "data": {
      "image/png": "[encoded data removed]",
      "text/plain": [
       "<matplotlib.figure.Figure at 0x1dde27436a0>"
      ]
     },
     "metadata": {},
     "output_type": "display_data"
    }
   ],
   "source": [
    "#df.plot('room_id','reviews')\n",
    "df.hist(column='reviews', range=[0, 175])"
   ]
  },
  {
   "cell_type": "code",
   "execution_count": 47,
   "metadata": {},
   "outputs": [
    {
     "data": {
      "text/plain": [
       "<matplotlib.axes._subplots.AxesSubplot at 0x1dde287be10>"
      ]
     },
     "execution_count": 47,
     "metadata": {},
     "output_type": "execute_result"
    },
    {
     "data": {
      "image/png": "[encoded data removed]",
      "text/plain": [
       "<matplotlib.figure.Figure at 0x1dde25be630>"
      ]
     },
     "metadata": {},
     "output_type": "display_data"
    }
   ],
   "source": [
    "df.plot.scatter('room_id','reviews')"
   ]
  },
  {
   "cell_type": "code",
   "execution_count": null,
   "metadata": {
    "collapsed": true
   },
   "outputs": [],
   "source": []
  }
 ],
 "metadata": {
  "kernelspec": {
   "display_name": "Python 3",
   "language": "python",
   "name": "python3"
  },
  "language_info": {
   "codemirror_mode": {
    "name": "ipython",
    "version": 3
   },
   "file_extension": ".py",
   "mimetype": "text/x-python",
   "name": "python",
   "nbconvert_exporter": "python",
   "pygments_lexer": "ipython3",
   "version": "3.6.3"
  }
 },
 "nbformat": 4,
 "nbformat_minor": 2
}
